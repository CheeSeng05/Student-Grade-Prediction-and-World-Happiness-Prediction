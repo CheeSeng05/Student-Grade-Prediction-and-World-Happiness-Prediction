{
 "cells": [
  {
   "cell_type": "markdown",
   "id": "c2044988-c58e-489e-8fc9-65a662617234",
   "metadata": {},
   "source": [
    "Lai Chee Seng 34075151\n",
    "\n",
    "FIT 1043 Assignment 2"
   ]
  },
  {
   "cell_type": "markdown",
   "id": "d0374a1e-5413-4cb7-842c-5670db077abe",
   "metadata": {},
   "source": [
    "# Task A"
   ]
  },
  {
   "cell_type": "code",
   "execution_count": 8,
   "id": "5e4f1fbc-3226-4c6c-b65c-a2e1a962fc6f",
   "metadata": {},
   "outputs": [
    {
     "data": {
      "text/plain": [
       "['StudentID',\n",
       " 'Age',\n",
       " 'StudyTimeWeekly',\n",
       " 'Absences',\n",
       " 'ParentalSupport',\n",
       " 'GPA',\n",
       " 'GradeClass']"
      ]
     },
     "execution_count": 8,
     "metadata": {},
     "output_type": "execute_result"
    }
   ],
   "source": [
    "# A1.1\n",
    "import pandas as pd\n",
    "import matplotlib.pyplot as plt\n",
    "student_list = pd.read_csv('Student_List_A2.csv')\n",
    "student_list.columns.tolist()"
   ]
  },
  {
   "cell_type": "markdown",
   "id": "fbb166ba-7e85-4fe2-bcd5-f88e6d4cc9c4",
   "metadata": {},
   "source": [
    "The column names are: StudentID, Age, StudyTimeWeekly, Absences, ParentalSupport, GPA and GradeClass"
   ]
  },
  {
   "cell_type": "code",
   "execution_count": 10,
   "id": "92958a38-b9ea-4cb1-995e-a754a611a963",
   "metadata": {},
   "outputs": [
    {
     "data": {
      "text/plain": [
       "array(['B', 'F', 'D', 'C', 'A'], dtype=object)"
      ]
     },
     "execution_count": 10,
     "metadata": {},
     "output_type": "execute_result"
    }
   ],
   "source": [
    "# A1.2\n",
    "grade_mapping = {0:'A', 1:'B', 2:'C', 3:'D', 4:'F'}\n",
    "student_list['GradeClass'] = student_list['GradeClass'].replace(grade_mapping)\n",
    "student_list['GradeClass'].unique()"
   ]
  },
  {
   "cell_type": "code",
   "execution_count": 11,
   "id": "bfbf5a6c-991f-44aa-a155-b0c0a1b98b99",
   "metadata": {},
   "outputs": [
    {
     "name": "stdout",
     "output_type": "stream",
     "text": [
      "(2100, 7)\n",
      "<class 'pandas.core.frame.DataFrame'>\n",
      "RangeIndex: 2100 entries, 0 to 2099\n",
      "Data columns (total 7 columns):\n",
      " #   Column           Non-Null Count  Dtype  \n",
      "---  ------           --------------  -----  \n",
      " 0   StudentID        2100 non-null   int64  \n",
      " 1   Age              2100 non-null   int64  \n",
      " 2   StudyTimeWeekly  2079 non-null   float64\n",
      " 3   Absences         2100 non-null   int64  \n",
      " 4   ParentalSupport  2100 non-null   int64  \n",
      " 5   GPA              2100 non-null   float64\n",
      " 6   GradeClass       2100 non-null   object \n",
      "dtypes: float64(2), int64(4), object(1)\n",
      "memory usage: 115.0+ KB\n",
      "None\n"
     ]
    }
   ],
   "source": [
    "# A1.3\n",
    "print(student_list.shape)\n",
    "print(student_list.info())\n",
    "median = student_list['StudyTimeWeekly'].median()\n",
    "student_list.fillna(median, inplace = True)"
   ]
  },
  {
   "cell_type": "markdown",
   "id": "d8998fb2-9356-4eaf-81bb-3efe76599c0e",
   "metadata": {},
   "source": [
    "I checked the dataframe's shape 2100x7 and used .info() to find columns with missing values. The 'StudyTimeWeekly' column had missing data, which I filled using the median with fillna() filling in all the null values in this column with the median."
   ]
  },
  {
   "cell_type": "code",
   "execution_count": 13,
   "id": "186321fc-24e2-443e-b407-2ab664d9ddf1",
   "metadata": {},
   "outputs": [
    {
     "name": "stdout",
     "output_type": "stream",
     "text": [
      "[   0   26   14   17   10   22    1   11   15   21    9   16   29    2\n",
      "   25   20    5    8   12   27   23    3    7   13    6   28    4   18\n",
      "   19   24  320 -122]\n"
     ]
    }
   ],
   "source": [
    "# A1.4\n",
    "print(student_list['Absences'].unique())\n",
    "filt = (student_list['Absences'] >= 0) & (student_list['Absences'] <= 30)\n",
    "student_list = student_list[filt]"
   ]
  },
  {
   "cell_type": "markdown",
   "id": "75c14689-f789-4fe5-813d-e010b8de121f",
   "metadata": {},
   "source": [
    "By using the .unique() function onto the 'Absences' column, all the unique values are displayed. From this, I identified the extreme values -122 and 320 and removed the rows that exhibits this problem."
   ]
  },
  {
   "cell_type": "code",
   "execution_count": 15,
   "id": "bfbbef18-048e-4caf-ac8e-84e313520456",
   "metadata": {},
   "outputs": [
    {
     "data": {
      "image/png": "[encoded data removed]",
      "text/plain": [
       "<Figure size 640x480 with 1 Axes>"
      ]
     },
     "metadata": {},
     "output_type": "display_data"
    }
   ],
   "source": [
    "# A1.5\n",
    "plt.scatter(student_list['GPA'], student_list['GradeClass'])\n",
    "plt.xlabel('GPA')\n",
    "plt.ylabel('GradeClass')\n",
    "plt.title('GPA to GradeClass')\n",
    "plt.show()"
   ]
  },
  {
   "cell_type": "markdown",
   "id": "891bd679-d260-4bee-b54f-f57edfb9378d",
   "metadata": {},
   "source": [
    "By plotting a GPA to GradeClass scatter plot diagram we can see that the GradeClass does not correspond to the GPA values as expected."
   ]
  },
  {
   "cell_type": "code",
   "execution_count": 17,
   "id": "d1787bfc-1041-4feb-b544-60199584b785",
   "metadata": {},
   "outputs": [],
   "source": [
    "bins = [0, 2.0, 2.5, 3.0, 3.5, 4.1]\n",
    "grade_labels = ['F', 'D', 'C', 'B', 'A']\n",
    "student_list['GradeClass'] = pd.cut(student_list['GPA'], bins=bins, labels=grade_labels, right=False)"
   ]
  },
  {
   "cell_type": "markdown",
   "id": "1bff5abb-3551-4ea6-bd30-b08e6ec0d26b",
   "metadata": {},
   "source": [
    "I replaced all the GradeClass values according to the grading table provided in question A1.2, which corresponds to the GPA column."
   ]
  },
  {
   "cell_type": "markdown",
   "id": "e5646cf7-1658-4909-96c0-47f8bde23fe5",
   "metadata": {},
   "source": [
    "#### A2.1\n",
    "\n",
    "Supervised machine learning is a type of machine learning where a model is trained on a labeled dataset. The goal is for the model to learn from train datasets so it can make predictions or decisions based on new, unseen data, the accuracy of this model will be calculated by comparing it with the test dataset."
   ]
  },
  {
   "cell_type": "code",
   "execution_count": 20,
   "id": "4a2a59e9-b564-40e7-aa71-591f71a93791",
   "metadata": {},
   "outputs": [
    {
     "data": {
      "text/html": [
       "<div>\n",
       "<style scoped>\n",
       "    .dataframe tbody tr th:only-of-type {\n",
       "        vertical-align: middle;\n",
       "    }\n",
       "\n",
       "    .dataframe tbody tr th {\n",
       "        vertical-align: top;\n",
       "    }\n",
       "\n",
       "    .dataframe thead th {\n",
       "        text-align: right;\n",
       "    }\n",
       "</style>\n",
       "<table border=\"1\" class=\"dataframe\">\n",
       "  <thead>\n",
       "    <tr style=\"text-align: right;\">\n",
       "      <th></th>\n",
       "      <th>StudentID</th>\n",
       "      <th>Age</th>\n",
       "      <th>StudyTimeWeekly</th>\n",
       "      <th>Absences</th>\n",
       "      <th>ParentalSupport</th>\n",
       "      <th>GPA</th>\n",
       "      <th>GradeClass</th>\n",
       "    </tr>\n",
       "  </thead>\n",
       "  <tbody>\n",
       "    <tr>\n",
       "      <th>0</th>\n",
       "      <td>1002</td>\n",
       "      <td>18</td>\n",
       "      <td>15.408756</td>\n",
       "      <td>0</td>\n",
       "      <td>1</td>\n",
       "      <td>3.042915</td>\n",
       "      <td>B</td>\n",
       "    </tr>\n",
       "    <tr>\n",
       "      <th>1</th>\n",
       "      <td>1003</td>\n",
       "      <td>15</td>\n",
       "      <td>4.210570</td>\n",
       "      <td>26</td>\n",
       "      <td>2</td>\n",
       "      <td>0.112602</td>\n",
       "      <td>F</td>\n",
       "    </tr>\n",
       "    <tr>\n",
       "      <th>2</th>\n",
       "      <td>1004</td>\n",
       "      <td>17</td>\n",
       "      <td>10.028829</td>\n",
       "      <td>14</td>\n",
       "      <td>3</td>\n",
       "      <td>2.054218</td>\n",
       "      <td>D</td>\n",
       "    </tr>\n",
       "    <tr>\n",
       "      <th>3</th>\n",
       "      <td>1005</td>\n",
       "      <td>17</td>\n",
       "      <td>4.672495</td>\n",
       "      <td>17</td>\n",
       "      <td>3</td>\n",
       "      <td>1.288061</td>\n",
       "      <td>F</td>\n",
       "    </tr>\n",
       "    <tr>\n",
       "      <th>4</th>\n",
       "      <td>1006</td>\n",
       "      <td>18</td>\n",
       "      <td>8.191219</td>\n",
       "      <td>0</td>\n",
       "      <td>1</td>\n",
       "      <td>3.084184</td>\n",
       "      <td>B</td>\n",
       "    </tr>\n",
       "  </tbody>\n",
       "</table>\n",
       "</div>"
      ],
      "text/plain": [
       "   StudentID  Age  StudyTimeWeekly  Absences  ParentalSupport       GPA  \\\n",
       "0       1002   18        15.408756         0                1  3.042915   \n",
       "1       1003   15         4.210570        26                2  0.112602   \n",
       "2       1004   17        10.028829        14                3  2.054218   \n",
       "3       1005   17         4.672495        17                3  1.288061   \n",
       "4       1006   18         8.191219         0                1  3.084184   \n",
       "\n",
       "  GradeClass  \n",
       "0          B  \n",
       "1          F  \n",
       "2          D  \n",
       "3          F  \n",
       "4          B  "
      ]
     },
     "execution_count": 20,
     "metadata": {},
     "output_type": "execute_result"
    }
   ],
   "source": [
    "# A2.2\n",
    "student_list.head()"
   ]
  },
  {
   "cell_type": "markdown",
   "id": "ec29a606-0408-4bb8-a7b3-21d3de6027ab",
   "metadata": {},
   "source": [
    "GradeClass will be used as label\n",
    "\n",
    "Age, StudyTimeWeekly, Absences and ParentalSupport will be used as features"
   ]
  },
  {
   "cell_type": "code",
   "execution_count": 22,
   "id": "e5f154e6-1b6a-4357-8814-951af291ec99",
   "metadata": {},
   "outputs": [],
   "source": [
    "X = student_list.iloc[:, [1,2,3,4]].values\n",
    "y = student_list.iloc[:, [6]].values"
   ]
  },
  {
   "cell_type": "code",
   "execution_count": 23,
   "id": "71e7400f-fecc-4377-94c1-00cdefd06f95",
   "metadata": {},
   "outputs": [],
   "source": [
    "# A2.3\n",
    "from sklearn.model_selection import train_test_split\n",
    "\n",
    "X_train, X_test, y_train, y_test = train_test_split(\n",
    "X, y, test_size = 0.2, random_state = 0\n",
    ")\n",
    "y_train = y_train.ravel()\n",
    "y_test = y_test.ravel()"
   ]
  },
  {
   "cell_type": "markdown",
   "id": "93b87840-91de-4f5c-a1f5-ffd2cb402c15",
   "metadata": {},
   "source": [
    "#### A3.1.a\n",
    "\n",
    "In machine learning, normalizing data refers to scaling data so they are on a similar scale, typically within a specific range, this is important because many machine learning models rely on distances or gradiants of a dataset. "
   ]
  },
  {
   "cell_type": "code",
   "execution_count": 25,
   "id": "8a82506f-ca7e-4fc2-a53a-a1f324adf2b4",
   "metadata": {},
   "outputs": [],
   "source": [
    "# A3.1.b\n",
    "from sklearn.preprocessing import StandardScaler\n",
    "sc = StandardScaler()\n",
    "X_train = sc.fit_transform(X_train)\n",
    "X_test = sc.transform(X_test)"
   ]
  },
  {
   "cell_type": "markdown",
   "id": "7a4cd673-617d-4264-8c06-e8e1cf78d04a",
   "metadata": {},
   "source": [
    "#### A3.2.a\n",
    "\n",
    "A Support Vector Machine (SVM) is a machine learning algorithm used to classify data into different categories. It works by finding a line or plane that best separates the data points of different classes."
   ]
  },
  {
   "cell_type": "markdown",
   "id": "e64f4c6e-8882-47c3-86fc-f06164223ab2",
   "metadata": {},
   "source": [
    "#### A3.2.b\n",
    "\n",
    "Kernel is a mathametical function used in SVM models to transform data into a higher-dimension space. This basically means to create a seperation in a new space where it becomes easier to distinguish the classes between one another."
   ]
  },
  {
   "cell_type": "code",
   "execution_count": 28,
   "id": "a195dba4-67d6-43a4-b908-85b8edcf1319",
   "metadata": {},
   "outputs": [
    {
     "data": {
      "text/html": [
       "<style>#sk-container-id-1 {color: black;}#sk-container-id-1 pre{padding: 0;}#sk-container-id-1 div.sk-toggleable {background-color: white;}#sk-container-id-1 label.sk-toggleable__label {cursor: pointer;display: block;width: 100%;margin-bottom: 0;padding: 0.3em;box-sizing: border-box;text-align: center;}#sk-container-id-1 label.sk-toggleable__label-arrow:before {content: \"▸\";float: left;margin-right: 0.25em;color: #696969;}#sk-container-id-1 label.sk-toggleable__label-arrow:hover:before {color: black;}#sk-container-id-1 div.sk-estimator:hover label.sk-toggleable__label-arrow:before {color: black;}#sk-container-id-1 div.sk-toggleable__content {max-height: 0;max-width: 0;overflow: hidden;text-align: left;background-color: #f0f8ff;}#sk-container-id-1 div.sk-toggleable__content pre {margin: 0.2em;color: black;border-radius: 0.25em;background-color: #f0f8ff;}#sk-container-id-1 input.sk-toggleable__control:checked~div.sk-toggleable__content {max-height: 200px;max-width: 100%;overflow: auto;}#sk-container-id-1 input.sk-toggleable__control:checked~label.sk-toggleable__label-arrow:before {content: \"▾\";}#sk-container-id-1 div.sk-estimator input.sk-toggleable__control:checked~label.sk-toggleable__label {background-color: #d4ebff;}#sk-container-id-1 div.sk-label input.sk-toggleable__control:checked~label.sk-toggleable__label {background-color: #d4ebff;}#sk-container-id-1 input.sk-hidden--visually {border: 0;clip: rect(1px 1px 1px 1px);clip: rect(1px, 1px, 1px, 1px);height: 1px;margin: -1px;overflow: hidden;padding: 0;position: absolute;width: 1px;}#sk-container-id-1 div.sk-estimator {font-family: monospace;background-color: #f0f8ff;border: 1px dotted black;border-radius: 0.25em;box-sizing: border-box;margin-bottom: 0.5em;}#sk-container-id-1 div.sk-estimator:hover {background-color: #d4ebff;}#sk-container-id-1 div.sk-parallel-item::after {content: \"\";width: 100%;border-bottom: 1px solid gray;flex-grow: 1;}#sk-container-id-1 div.sk-label:hover label.sk-toggleable__label {background-color: #d4ebff;}#sk-container-id-1 div.sk-serial::before {content: \"\";position: absolute;border-left: 1px solid gray;box-sizing: border-box;top: 0;bottom: 0;left: 50%;z-index: 0;}#sk-container-id-1 div.sk-serial {display: flex;flex-direction: column;align-items: center;background-color: white;padding-right: 0.2em;padding-left: 0.2em;position: relative;}#sk-container-id-1 div.sk-item {position: relative;z-index: 1;}#sk-container-id-1 div.sk-parallel {display: flex;align-items: stretch;justify-content: center;background-color: white;position: relative;}#sk-container-id-1 div.sk-item::before, #sk-container-id-1 div.sk-parallel-item::before {content: \"\";position: absolute;border-left: 1px solid gray;box-sizing: border-box;top: 0;bottom: 0;left: 50%;z-index: -1;}#sk-container-id-1 div.sk-parallel-item {display: flex;flex-direction: column;z-index: 1;position: relative;background-color: white;}#sk-container-id-1 div.sk-parallel-item:first-child::after {align-self: flex-end;width: 50%;}#sk-container-id-1 div.sk-parallel-item:last-child::after {align-self: flex-start;width: 50%;}#sk-container-id-1 div.sk-parallel-item:only-child::after {width: 0;}#sk-container-id-1 div.sk-dashed-wrapped {border: 1px dashed gray;margin: 0 0.4em 0.5em 0.4em;box-sizing: border-box;padding-bottom: 0.4em;background-color: white;}#sk-container-id-1 div.sk-label label {font-family: monospace;font-weight: bold;display: inline-block;line-height: 1.2em;}#sk-container-id-1 div.sk-label-container {text-align: center;}#sk-container-id-1 div.sk-container {/* jupyter's `normalize.less` sets `[hidden] { display: none; }` but bootstrap.min.css set `[hidden] { display: none !important; }` so we also need the `!important` here to be able to override the default hidden behavior on the sphinx rendered scikit-learn.org. See: https://github.com/scikit-learn/scikit-learn/issues/21755 */display: inline-block !important;position: relative;}#sk-container-id-1 div.sk-text-repr-fallback {display: none;}</style><div id=\"sk-container-id-1\" class=\"sk-top-container\"><div class=\"sk-text-repr-fallback\"><pre>SVC(kernel=&#x27;linear&#x27;)</pre><b>In a Jupyter environment, please rerun this cell to show the HTML representation or trust the notebook. <br />On GitHub, the HTML representation is unable to render, please try loading this page with nbviewer.org.</b></div><div class=\"sk-container\" hidden><div class=\"sk-item\"><div class=\"sk-estimator sk-toggleable\"><input class=\"sk-toggleable__control sk-hidden--visually\" id=\"sk-estimator-id-1\" type=\"checkbox\" checked><label for=\"sk-estimator-id-1\" class=\"sk-toggleable__label sk-toggleable__label-arrow\">SVC</label><div class=\"sk-toggleable__content\"><pre>SVC(kernel=&#x27;linear&#x27;)</pre></div></div></div></div></div>"
      ],
      "text/plain": [
       "SVC(kernel='linear')"
      ]
     },
     "execution_count": 28,
     "metadata": {},
     "output_type": "execute_result"
    }
   ],
   "source": [
    "# A3.2.c\n",
    "from sklearn.svm import SVC\n",
    "\n",
    "svm_model = SVC(kernel='linear')\n",
    "svm_model.fit(X_train, y_train)"
   ]
  },
  {
   "cell_type": "code",
   "execution_count": 29,
   "id": "de0df39c-8681-42ba-9790-515e1075c973",
   "metadata": {},
   "outputs": [
    {
     "data": {
      "text/html": [
       "<style>#sk-container-id-2 {color: black;}#sk-container-id-2 pre{padding: 0;}#sk-container-id-2 div.sk-toggleable {background-color: white;}#sk-container-id-2 label.sk-toggleable__label {cursor: pointer;display: block;width: 100%;margin-bottom: 0;padding: 0.3em;box-sizing: border-box;text-align: center;}#sk-container-id-2 label.sk-toggleable__label-arrow:before {content: \"▸\";float: left;margin-right: 0.25em;color: #696969;}#sk-container-id-2 label.sk-toggleable__label-arrow:hover:before {color: black;}#sk-container-id-2 div.sk-estimator:hover label.sk-toggleable__label-arrow:before {color: black;}#sk-container-id-2 div.sk-toggleable__content {max-height: 0;max-width: 0;overflow: hidden;text-align: left;background-color: #f0f8ff;}#sk-container-id-2 div.sk-toggleable__content pre {margin: 0.2em;color: black;border-radius: 0.25em;background-color: #f0f8ff;}#sk-container-id-2 input.sk-toggleable__control:checked~div.sk-toggleable__content {max-height: 200px;max-width: 100%;overflow: auto;}#sk-container-id-2 input.sk-toggleable__control:checked~label.sk-toggleable__label-arrow:before {content: \"▾\";}#sk-container-id-2 div.sk-estimator input.sk-toggleable__control:checked~label.sk-toggleable__label {background-color: #d4ebff;}#sk-container-id-2 div.sk-label input.sk-toggleable__control:checked~label.sk-toggleable__label {background-color: #d4ebff;}#sk-container-id-2 input.sk-hidden--visually {border: 0;clip: rect(1px 1px 1px 1px);clip: rect(1px, 1px, 1px, 1px);height: 1px;margin: -1px;overflow: hidden;padding: 0;position: absolute;width: 1px;}#sk-container-id-2 div.sk-estimator {font-family: monospace;background-color: #f0f8ff;border: 1px dotted black;border-radius: 0.25em;box-sizing: border-box;margin-bottom: 0.5em;}#sk-container-id-2 div.sk-estimator:hover {background-color: #d4ebff;}#sk-container-id-2 div.sk-parallel-item::after {content: \"\";width: 100%;border-bottom: 1px solid gray;flex-grow: 1;}#sk-container-id-2 div.sk-label:hover label.sk-toggleable__label {background-color: #d4ebff;}#sk-container-id-2 div.sk-serial::before {content: \"\";position: absolute;border-left: 1px solid gray;box-sizing: border-box;top: 0;bottom: 0;left: 50%;z-index: 0;}#sk-container-id-2 div.sk-serial {display: flex;flex-direction: column;align-items: center;background-color: white;padding-right: 0.2em;padding-left: 0.2em;position: relative;}#sk-container-id-2 div.sk-item {position: relative;z-index: 1;}#sk-container-id-2 div.sk-parallel {display: flex;align-items: stretch;justify-content: center;background-color: white;position: relative;}#sk-container-id-2 div.sk-item::before, #sk-container-id-2 div.sk-parallel-item::before {content: \"\";position: absolute;border-left: 1px solid gray;box-sizing: border-box;top: 0;bottom: 0;left: 50%;z-index: -1;}#sk-container-id-2 div.sk-parallel-item {display: flex;flex-direction: column;z-index: 1;position: relative;background-color: white;}#sk-container-id-2 div.sk-parallel-item:first-child::after {align-self: flex-end;width: 50%;}#sk-container-id-2 div.sk-parallel-item:last-child::after {align-self: flex-start;width: 50%;}#sk-container-id-2 div.sk-parallel-item:only-child::after {width: 0;}#sk-container-id-2 div.sk-dashed-wrapped {border: 1px dashed gray;margin: 0 0.4em 0.5em 0.4em;box-sizing: border-box;padding-bottom: 0.4em;background-color: white;}#sk-container-id-2 div.sk-label label {font-family: monospace;font-weight: bold;display: inline-block;line-height: 1.2em;}#sk-container-id-2 div.sk-label-container {text-align: center;}#sk-container-id-2 div.sk-container {/* jupyter's `normalize.less` sets `[hidden] { display: none; }` but bootstrap.min.css set `[hidden] { display: none !important; }` so we also need the `!important` here to be able to override the default hidden behavior on the sphinx rendered scikit-learn.org. See: https://github.com/scikit-learn/scikit-learn/issues/21755 */display: inline-block !important;position: relative;}#sk-container-id-2 div.sk-text-repr-fallback {display: none;}</style><div id=\"sk-container-id-2\" class=\"sk-top-container\"><div class=\"sk-text-repr-fallback\"><pre>RandomForestClassifier(criterion=&#x27;entropy&#x27;, n_estimators=20, random_state=0)</pre><b>In a Jupyter environment, please rerun this cell to show the HTML representation or trust the notebook. <br />On GitHub, the HTML representation is unable to render, please try loading this page with nbviewer.org.</b></div><div class=\"sk-container\" hidden><div class=\"sk-item\"><div class=\"sk-estimator sk-toggleable\"><input class=\"sk-toggleable__control sk-hidden--visually\" id=\"sk-estimator-id-2\" type=\"checkbox\" checked><label for=\"sk-estimator-id-2\" class=\"sk-toggleable__label sk-toggleable__label-arrow\">RandomForestClassifier</label><div class=\"sk-toggleable__content\"><pre>RandomForestClassifier(criterion=&#x27;entropy&#x27;, n_estimators=20, random_state=0)</pre></div></div></div></div></div>"
      ],
      "text/plain": [
       "RandomForestClassifier(criterion='entropy', n_estimators=20, random_state=0)"
      ]
     },
     "execution_count": 29,
     "metadata": {},
     "output_type": "execute_result"
    }
   ],
   "source": [
    "# A3.3\n",
    "from sklearn.ensemble import RandomForestClassifier\n",
    "\n",
    "RandomForest = RandomForestClassifier(\n",
    "n_estimators = 20,\n",
    "criterion = 'entropy',\n",
    "random_state = 0)\n",
    "RandomForest.fit(X_train, y_train)"
   ]
  },
  {
   "cell_type": "code",
   "execution_count": 30,
   "id": "a769e979-8f02-45f2-a42a-be0d0fc5b8e9",
   "metadata": {},
   "outputs": [],
   "source": [
    "# A4.1\n",
    "y_pred_svm = svm_model.predict(X_test)\n",
    "y_pred_rf = RandomForest.predict(X_test)"
   ]
  },
  {
   "cell_type": "code",
   "execution_count": 31,
   "id": "04aac76a-5600-4359-a943-2d79e581448a",
   "metadata": {},
   "outputs": [
    {
     "name": "stdout",
     "output_type": "stream",
     "text": [
      "SVM accuracy : 75.95238095238095\n",
      "[[  0  18   0   0   0]\n",
      " [  0  19  23   1   0]\n",
      " [  0   9  40   9   1]\n",
      " [  0   0  13  46  19]\n",
      " [  0   0   0   8 214]]\n",
      "Random Forest accuracy : 72.38095238095238\n",
      "[[  0  18   0   0   0]\n",
      " [  0  19  23   1   0]\n",
      " [  0   9  40   9   1]\n",
      " [  0   0  13  46  19]\n",
      " [  0   0   0   8 214]]\n"
     ]
    }
   ],
   "source": [
    "# A4.2\n",
    "from sklearn.metrics import confusion_matrix, accuracy_score\n",
    "\n",
    "cm_svm = confusion_matrix(y_test, y_pred_svm)\n",
    "print(f\"SVM accuracy : {accuracy_score(y_test, y_pred_svm)*100}\")\n",
    "print(cm_svm)\n",
    "cm_rf = confusion_matrix(y_test, y_pred_rf)\n",
    "print(f\"Random Forest accuracy : {accuracy_score(y_test, y_pred_rf)*100}\")\n",
    "print(cm_svm)"
   ]
  },
  {
   "cell_type": "markdown",
   "id": "3b2d2549-8dc7-4d0c-b35e-a02288d88d9c",
   "metadata": {},
   "source": [
    "A4.3\n",
    "\n",
    "SVM Accuracy: 319/420 = 0.7595 = 75.95%\n",
    "\n",
    "Random Forest Accuracy: 304/420 = 0.7238 = 72.38%\n",
    "\n",
    "From the accuracy calculated from each confusion table, SVM is a more accurate therefor SVM performed better."
   ]
  },
  {
   "cell_type": "code",
   "execution_count": 33,
   "id": "350578d9-93da-4534-a173-22a70c31a3bc",
   "metadata": {},
   "outputs": [
    {
     "data": {
      "text/html": [
       "<div>\n",
       "<style scoped>\n",
       "    .dataframe tbody tr th:only-of-type {\n",
       "        vertical-align: middle;\n",
       "    }\n",
       "\n",
       "    .dataframe tbody tr th {\n",
       "        vertical-align: top;\n",
       "    }\n",
       "\n",
       "    .dataframe thead th {\n",
       "        text-align: right;\n",
       "    }\n",
       "</style>\n",
       "<table border=\"1\" class=\"dataframe\">\n",
       "  <thead>\n",
       "    <tr style=\"text-align: right;\">\n",
       "      <th></th>\n",
       "      <th>StudentID</th>\n",
       "      <th>Age</th>\n",
       "      <th>StudyTimeWeekly</th>\n",
       "      <th>Absences</th>\n",
       "      <th>ParentalSupport</th>\n",
       "    </tr>\n",
       "  </thead>\n",
       "  <tbody>\n",
       "    <tr>\n",
       "      <th>0</th>\n",
       "      <td>5000</td>\n",
       "      <td>16</td>\n",
       "      <td>13.274090</td>\n",
       "      <td>27</td>\n",
       "      <td>1</td>\n",
       "    </tr>\n",
       "    <tr>\n",
       "      <th>1</th>\n",
       "      <td>5001</td>\n",
       "      <td>17</td>\n",
       "      <td>16.926360</td>\n",
       "      <td>6</td>\n",
       "      <td>2</td>\n",
       "    </tr>\n",
       "    <tr>\n",
       "      <th>2</th>\n",
       "      <td>5002</td>\n",
       "      <td>15</td>\n",
       "      <td>4.225258</td>\n",
       "      <td>15</td>\n",
       "      <td>3</td>\n",
       "    </tr>\n",
       "    <tr>\n",
       "      <th>3</th>\n",
       "      <td>5003</td>\n",
       "      <td>16</td>\n",
       "      <td>18.839829</td>\n",
       "      <td>17</td>\n",
       "      <td>3</td>\n",
       "    </tr>\n",
       "    <tr>\n",
       "      <th>4</th>\n",
       "      <td>5004</td>\n",
       "      <td>15</td>\n",
       "      <td>9.075075</td>\n",
       "      <td>6</td>\n",
       "      <td>2</td>\n",
       "    </tr>\n",
       "  </tbody>\n",
       "</table>\n",
       "</div>"
      ],
      "text/plain": [
       "   StudentID  Age  StudyTimeWeekly  Absences  ParentalSupport\n",
       "0       5000   16        13.274090        27                1\n",
       "1       5001   17        16.926360         6                2\n",
       "2       5002   15         4.225258        15                3\n",
       "3       5003   16        18.839829        17                3\n",
       "4       5004   15         9.075075         6                2"
      ]
     },
     "execution_count": 33,
     "metadata": {},
     "output_type": "execute_result"
    }
   ],
   "source": [
    "# A5.1\n",
    "student_list_submission = pd.read_csv('Student_List_A2_Submission.csv')\n",
    "student_list_submission.head()"
   ]
  },
  {
   "cell_type": "code",
   "execution_count": 34,
   "id": "a3bdf2bb-2ae0-4f90-85c8-a6d075a6a1e7",
   "metadata": {},
   "outputs": [
    {
     "name": "stdout",
     "output_type": "stream",
     "text": [
      "['F' 'C' 'F' 'D' 'C' 'C' 'C' 'F' 'C' 'F' 'F' 'F' 'F' 'C' 'F' 'C' 'F' 'D'\n",
      " 'D' 'C' 'F' 'F' 'C' 'C' 'F' 'F' 'B' 'F' 'F' 'F' 'F' 'F' 'B' 'F' 'F' 'C'\n",
      " 'B' 'F' 'F' 'F' 'F' 'F' 'C' 'C' 'F' 'D' 'B' 'F' 'C' 'F' 'B' 'D' 'F' 'F'\n",
      " 'C' 'F' 'D' 'F' 'F' 'F' 'F' 'C' 'B' 'D' 'D' 'F' 'F' 'F' 'F' 'D' 'C' 'F'\n",
      " 'F' 'D' 'F' 'C' 'F' 'F' 'C' 'F' 'C' 'B' 'F' 'B' 'F' 'B' 'C' 'C' 'F' 'F'\n",
      " 'C' 'F' 'F' 'D' 'C' 'F' 'F' 'F' 'F' 'F' 'C' 'C' 'F' 'D' 'F' 'F' 'C' 'F'\n",
      " 'D' 'F' 'D' 'F' 'D' 'F' 'F' 'F' 'B' 'F' 'F' 'C' 'F' 'D' 'B' 'F' 'F' 'F'\n",
      " 'C' 'F' 'F' 'F' 'F' 'B' 'B' 'F' 'C' 'B' 'C' 'F' 'F' 'F' 'F' 'C' 'D' 'B'\n",
      " 'F' 'F' 'F' 'F' 'F' 'F' 'D' 'F' 'B' 'D' 'F' 'F' 'D' 'F' 'F' 'C' 'F']\n"
     ]
    }
   ],
   "source": [
    "# A5.2\n",
    "X = student_list_submission.iloc[:, [1,2,3,4]].values\n",
    "X = sc.transform(X)\n",
    "predictions = svm_model.predict(X)\n",
    "print(predictions)\n",
    "\n",
    "submission_df = pd.DataFrame({\n",
    "    'StudentID': student_list_submission['StudentID'],\n",
    "    'GradeClass': predictions\n",
    "})\n",
    "submission_df.to_csv('predictions.csv', index=False)"
   ]
  },
  {
   "cell_type": "markdown",
   "id": "4fcd7666-b4b2-447c-8d93-8ce60d31e4bf",
   "metadata": {},
   "source": [
    "# Task B"
   ]
  },
  {
   "cell_type": "code",
   "execution_count": 36,
   "id": "5edebf4d-ef7f-4cc7-b681-104a5f428d47",
   "metadata": {},
   "outputs": [
    {
     "data": {
      "text/plain": [
       "['Country name',\n",
       " 'year',\n",
       " 'Life Ladder',\n",
       " 'Log GDP per capita',\n",
       " 'Social support',\n",
       " 'Healthy life expectancy at birth',\n",
       " 'Freedom to make life choices',\n",
       " 'Generosity',\n",
       " 'Perceptions of corruption',\n",
       " 'Positive affect',\n",
       " 'Negative affect']"
      ]
     },
     "execution_count": 36,
     "metadata": {},
     "output_type": "execute_result"
    }
   ],
   "source": [
    "# B1.1\n",
    "happiness_report = pd.read_csv('World Happiness Report 2024.csv')\n",
    "happiness_report.columns.tolist()"
   ]
  },
  {
   "cell_type": "markdown",
   "id": "51ff90fa-ba1b-48e9-8bc0-8d745438d5d1",
   "metadata": {},
   "source": [
    "\n",
    "The data is from the link: https://www.kaggle.com/datasets/abdullah0a/world-happiness-data-2024-explore-life?resource=download"
   ]
  },
  {
   "cell_type": "code",
   "execution_count": 38,
   "id": "c65d2057-589c-4f4d-a165-f1ac319e8df6",
   "metadata": {},
   "outputs": [
    {
     "name": "stdout",
     "output_type": "stream",
     "text": [
      "(2363, 11)\n",
      "<class 'pandas.core.frame.DataFrame'>\n",
      "RangeIndex: 2363 entries, 0 to 2362\n",
      "Data columns (total 11 columns):\n",
      " #   Column                            Non-Null Count  Dtype  \n",
      "---  ------                            --------------  -----  \n",
      " 0   Country name                      2363 non-null   object \n",
      " 1   year                              2363 non-null   int64  \n",
      " 2   Life Ladder                       2363 non-null   float64\n",
      " 3   Log GDP per capita                2335 non-null   float64\n",
      " 4   Social support                    2350 non-null   float64\n",
      " 5   Healthy life expectancy at birth  2300 non-null   float64\n",
      " 6   Freedom to make life choices      2327 non-null   float64\n",
      " 7   Generosity                        2282 non-null   float64\n",
      " 8   Perceptions of corruption         2238 non-null   float64\n",
      " 9   Positive affect                   2339 non-null   float64\n",
      " 10  Negative affect                   2347 non-null   float64\n",
      "dtypes: float64(9), int64(1), object(1)\n",
      "memory usage: 203.2+ KB\n"
     ]
    }
   ],
   "source": [
    "# B1.2\n",
    "print(happiness_report.shape)\n",
    "happiness_report.info()"
   ]
  },
  {
   "cell_type": "code",
   "execution_count": 39,
   "id": "e08268e5-67af-4503-aff6-741edbee59f5",
   "metadata": {},
   "outputs": [],
   "source": [
    "happiness_report = happiness_report.dropna()"
   ]
  },
  {
   "cell_type": "markdown",
   "id": "06c2dc3a-e9c5-4dc5-881f-379251a82a07",
   "metadata": {},
   "source": [
    "I checked the dataframe's shape 2363x11 and used .info() to identify columns with fewer than 2363 non-null values, indicating missing data. Since there are many columns with multiple missing data, I removed all columns with null values."
   ]
  },
  {
   "cell_type": "code",
   "execution_count": 41,
   "id": "fe087301-f85b-4a6a-a292-3ec18dd17927",
   "metadata": {},
   "outputs": [],
   "source": [
    "# B1.3\n",
    "from sklearn.cluster import KMeans\n",
    "kmeans = KMeans(n_clusters=2, n_init=10).fit(\n",
    "happiness_report[['Healthy life expectancy at birth','Log GDP per capita']]\n",
    ")"
   ]
  },
  {
   "cell_type": "code",
   "execution_count": 42,
   "id": "6e2a14eb-239d-4669-aa33-265d38e193ed",
   "metadata": {},
   "outputs": [
    {
     "data": {
      "image/png": "[encoded data removed]",
      "text/plain": [
       "<Figure size 640x480 with 1 Axes>"
      ]
     },
     "metadata": {},
     "output_type": "display_data"
    }
   ],
   "source": [
    "# B1.4\n",
    "plt.scatter(\n",
    "x=happiness_report['Healthy life expectancy at birth'],\n",
    "y=happiness_report['Log GDP per capita'],\n",
    "c=kmeans.labels_,\n",
    "cmap='coolwarm')\n",
    "plt.plot(\n",
    "kmeans.cluster_centers_[:,0],\n",
    "kmeans.cluster_centers_[:,1],\n",
    "'k*',\n",
    "markersize=20\n",
    ")\n",
    "plt.xlabel('Healthy life expectancy at birth')\n",
    "plt.ylabel('Log GDP per capita')\n",
    "plt.show()"
   ]
  },
  {
   "cell_type": "markdown",
   "id": "284af08e-c441-495d-a102-f56b4c9951eb",
   "metadata": {},
   "source": [
    "In this k-means clustering plot, I have created a scatter diagram displaying the variables GDP per capita and healthy life expectancy at birth. This diagram features two clusters: the red cluster (Cluster A) represents countries with lower GDP per capita and shorter healthy life expectancy at birth, while the blue cluster (Cluster B) represents countries with higher GDP per capita and longer healthy life expectancy at birth, both clusters have simillar numbers of data points (country).\n",
    "\n",
    "Cluster A: This cluster appears to be elongated and tilted, all points on the graph are spread out and the centroid of this cluster is around (55,8). The presence of several outliers spread across the x-axis may indicate unique characteristics or anomalies within the data.\n",
    "\n",
    "Cluster B: This cluster appears to be elongated and tilted as well, the points on the graph appear to be more compact and the centroid of this cluster is around (67,10). There are also several outliers, however it is spread across the y-axis."
   ]
  }
 ],
 "metadata": {
  "kernelspec": {
   "display_name": "Python 3 (ipykernel)",
   "language": "python",
   "name": "python3"
  },
  "language_info": {
   "codemirror_mode": {
    "name": "ipython",
    "version": 3
   },
   "file_extension": ".py",
   "mimetype": "text/x-python",
   "name": "python",
   "nbconvert_exporter": "python",
   "pygments_lexer": "ipython3",
   "version": "3.11.5"
  }
 },
 "nbformat": 4,
 "nbformat_minor": 5
}
